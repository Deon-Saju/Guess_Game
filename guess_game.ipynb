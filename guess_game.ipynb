{
  "nbformat": 4,
  "nbformat_minor": 0,
  "metadata": {
    "colab": {
      "name": "guess_game.ipynb",
      "provenance": []
    },
    "kernelspec": {
      "name": "python3",
      "display_name": "Python 3"
    },
    "language_info": {
      "name": "python"
    }
  },
  "cells": [
    {
      "cell_type": "code",
      "metadata": {
        "id": "81rSdfoJq3sp"
      },
      "source": [
        "secret_number=9\n",
        "guess_count=0\n",
        "guess_limit=3\n",
        "while guess_count<guess_limit:\n",
        "  guess=int(input('Guess: '))\n",
        "  guess_count +=1\n",
        "  if guess==secret_number:\n",
        "    print('You are correct')\n",
        "    break\n",
        "else:\n",
        "  print('Sorry')"
      ],
      "execution_count": null,
      "outputs": []
    }
  ]
}